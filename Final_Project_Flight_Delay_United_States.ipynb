{
  "nbformat": 4,
  "nbformat_minor": 0,
  "metadata": {
    "colab": {
      "name": "Final_Project_Flight_Delay_United_States.ipynb",
      "provenance": [],
      "collapsed_sections": [],
      "machine_shape": "hm"
    },
    "kernelspec": {
      "name": "python3",
      "display_name": "Python 3"
    }
  },
  "cells": [
    {
      "cell_type": "code",
      "metadata": {
        "id": "Gr7Ku6se37zS",
        "colab_type": "code",
        "colab": {}
      },
      "source": [
        "import pandas as pd\n",
        "import numpy as np\n",
        "import datetime as dt\n",
        "from sklearn.model_selection import train_test_split\n",
        "from sklearn.pipeline import Pipeline\n",
        "from sklearn.model_selection import GridSearchCV\n",
        "from sklearn.linear_model import LogisticRegression\n",
        "from sklearn.ensemble import RandomForestClassifier\n",
        "from sklearn.preprocessing import MinMaxScaler\n",
        "from sklearn.preprocessing import StandardScaler\n",
        "from sklearn.metrics import confusion_matrix\n",
        "from sklearn.preprocessing import normalize\n",
        "from sklearn.metrics import classification_report\n",
        "from sklearn.metrics import precision_recall_curve, roc_curve, auc\n",
        "from sklearn.preprocessing import FunctionTransformer\n",
        "from sklearn.pipeline import FeatureUnion\n",
        "from sklearn.compose import ColumnTransformer\n",
        "from sklearn.feature_extraction.text import CountVectorizer\n",
        "from sklearn.base import BaseEstimator, TransformerMixin\n",
        "import warnings\n",
        "warnings.filterwarnings(\"ignore\")\n",
        "\n",
        "\n"
      ],
      "execution_count": 0,
      "outputs": []
    },
    {
      "cell_type": "code",
      "metadata": {
        "id": "ySI9jrZe4BKx",
        "colab_type": "code",
        "outputId": "50380ec9-8f17-4f98-e841-0b5d2274ac00",
        "colab": {
          "base_uri": "https://localhost:8080/",
          "height": 34
        }
      },
      "source": [
        "#from google.colab import drive\n",
        "#drive.mount('/content/drive/')\n",
        "#__dir__ = '/content/drive/My Drive/final_project/Flight_Delay_AA/'"
      ],
      "execution_count": 5,
      "outputs": [
        {
          "output_type": "stream",
          "text": [
            "Drive already mounted at /content/drive/; to attempt to forcibly remount, call drive.mount(\"/content/drive/\", force_remount=True).\n"
          ],
          "name": "stdout"
        }
      ]
    },
    {
      "cell_type": "code",
      "metadata": {
        "id": "K9qUb5bY4Mkr",
        "colab_type": "code",
        "outputId": "bf5a3822-39fd-489c-d84c-13b47a49653b",
        "colab": {
          "base_uri": "https://localhost:8080/",
          "height": 71
        }
      },
      "source": [
        "#data = pd.read_csv(__dir__+'final_data.csv')\n",
        "data = pd.read_csv(__dir__+'final_data.csv')"
      ],
      "execution_count": 6,
      "outputs": [
        {
          "output_type": "stream",
          "text": [
            "/usr/local/lib/python3.6/dist-packages/IPython/core/interactiveshell.py:2718: DtypeWarning: Columns (0,1,3,4,10,11,13,19,20,21,22,30,36,41,48) have mixed types. Specify dtype option on import or set low_memory=False.\n",
            "  interactivity=interactivity, compiler=compiler, result=result)\n"
          ],
          "name": "stderr"
        }
      ]
    },
    {
      "cell_type": "markdown",
      "metadata": {
        "id": "vcuVTYvcLYhd",
        "colab_type": "text"
      },
      "source": [
        "###How to deal with large data frame"
      ]
    },
    {
      "cell_type": "code",
      "metadata": {
        "id": "9Gsp2XVv4kNy",
        "colab_type": "code",
        "colab": {
          "base_uri": "https://localhost:8080/",
          "height": 326
        },
        "outputId": "d9a929f3-6bb5-4517-b6e6-517e96c3bef7"
      },
      "source": [
        "data.head()"
      ],
      "execution_count": 7,
      "outputs": [
        {
          "output_type": "execute_result",
          "data": {
            "text/html": [
              "<div>\n",
              "<style scoped>\n",
              "    .dataframe tbody tr th:only-of-type {\n",
              "        vertical-align: middle;\n",
              "    }\n",
              "\n",
              "    .dataframe tbody tr th {\n",
              "        vertical-align: top;\n",
              "    }\n",
              "\n",
              "    .dataframe thead th {\n",
              "        text-align: right;\n",
              "    }\n",
              "</style>\n",
              "<table border=\"1\" class=\"dataframe\">\n",
              "  <thead>\n",
              "    <tr style=\"text-align: right;\">\n",
              "      <th></th>\n",
              "      <th>YEAR</th>\n",
              "      <th>QUARTER</th>\n",
              "      <th>MONTH</th>\n",
              "      <th>DAY_OF_MONTH</th>\n",
              "      <th>DAY_OF_WEEK</th>\n",
              "      <th>FL_DATE</th>\n",
              "      <th>UNIQUE_CARRIER</th>\n",
              "      <th>AIRLINE_ID</th>\n",
              "      <th>CARRIER</th>\n",
              "      <th>TAIL_NUM</th>\n",
              "      <th>FL_NUM</th>\n",
              "      <th>ORIGIN_AIRPORT_ID</th>\n",
              "      <th>ORIGIN_AIRPORT_SEQ_ID</th>\n",
              "      <th>ORIGIN_CITY_MARKET_ID</th>\n",
              "      <th>ORIGIN</th>\n",
              "      <th>ORIGIN_CITY_NAME</th>\n",
              "      <th>ORIGIN_STATE_ABR</th>\n",
              "      <th>ORIGIN_STATE_FIPS</th>\n",
              "      <th>ORIGIN_STATE_NM</th>\n",
              "      <th>ORIGIN_WAC</th>\n",
              "      <th>DEST_AIRPORT_ID</th>\n",
              "      <th>DEST_AIRPORT_SEQ_ID</th>\n",
              "      <th>DEST_CITY_MARKET_ID</th>\n",
              "      <th>DEST</th>\n",
              "      <th>DEST_CITY_NAME</th>\n",
              "      <th>DEST_STATE_ABR</th>\n",
              "      <th>DEST_STATE_FIPS</th>\n",
              "      <th>DEST_STATE_NM</th>\n",
              "      <th>DEST_WAC</th>\n",
              "      <th>CRS_DEP_TIME</th>\n",
              "      <th>DEP_TIME</th>\n",
              "      <th>DEP_DELAY</th>\n",
              "      <th>DEP_DELAY_NEW</th>\n",
              "      <th>DEP_DEL15</th>\n",
              "      <th>DEP_DELAY_GROUP</th>\n",
              "      <th>DEP_TIME_BLK</th>\n",
              "      <th>TAXI_OUT</th>\n",
              "      <th>WHEELS_OFF</th>\n",
              "      <th>WHEELS_ON</th>\n",
              "      <th>TAXI_IN</th>\n",
              "      <th>CRS_ARR_TIME</th>\n",
              "      <th>ARR_TIME</th>\n",
              "      <th>ARR_DELAY</th>\n",
              "      <th>ARR_DELAY_NEW</th>\n",
              "      <th>ARR_DEL15</th>\n",
              "      <th>ARR_DELAY_GROUP</th>\n",
              "      <th>ARR_TIME_BLK</th>\n",
              "      <th>CANCELLED</th>\n",
              "      <th>CANCELLATION_CODE</th>\n",
              "      <th>DIVERTED</th>\n",
              "      <th>CRS_ELAPSED_TIME</th>\n",
              "      <th>ACTUAL_ELAPSED_TIME</th>\n",
              "      <th>AIR_TIME</th>\n",
              "      <th>FLIGHTS</th>\n",
              "      <th>DISTANCE</th>\n",
              "      <th>DISTANCE_GROUP</th>\n",
              "      <th>CARRIER_DELAY</th>\n",
              "      <th>WEATHER_DELAY</th>\n",
              "      <th>NAS_DELAY</th>\n",
              "      <th>SECURITY_DELAY</th>\n",
              "      <th>LATE_AIRCRAFT_DELAY</th>\n",
              "      <th>FIRST_DEP_TIME</th>\n",
              "      <th>TOTAL_ADD_GTIME</th>\n",
              "      <th>LONGEST_ADD_GTIME</th>\n",
              "      <th>Unnamed: 64</th>\n",
              "    </tr>\n",
              "  </thead>\n",
              "  <tbody>\n",
              "    <tr>\n",
              "      <th>0</th>\n",
              "      <td>2016</td>\n",
              "      <td>1</td>\n",
              "      <td>1</td>\n",
              "      <td>6</td>\n",
              "      <td>3</td>\n",
              "      <td>2016-01-06</td>\n",
              "      <td>AA</td>\n",
              "      <td>19805</td>\n",
              "      <td>AA</td>\n",
              "      <td>N4YBAA</td>\n",
              "      <td>43</td>\n",
              "      <td>11298</td>\n",
              "      <td>1129804</td>\n",
              "      <td>30194</td>\n",
              "      <td>DFW</td>\n",
              "      <td>Dallas/Fort Worth, TX</td>\n",
              "      <td>TX</td>\n",
              "      <td>48.0</td>\n",
              "      <td>Texas</td>\n",
              "      <td>74</td>\n",
              "      <td>11433</td>\n",
              "      <td>1143302</td>\n",
              "      <td>31295</td>\n",
              "      <td>DTW</td>\n",
              "      <td>Detroit, MI</td>\n",
              "      <td>MI</td>\n",
              "      <td>26.0</td>\n",
              "      <td>Michigan</td>\n",
              "      <td>43.0</td>\n",
              "      <td>1100.0</td>\n",
              "      <td>1057</td>\n",
              "      <td>-3.0</td>\n",
              "      <td>0.0</td>\n",
              "      <td>0.0</td>\n",
              "      <td>-1.0</td>\n",
              "      <td>1100-1159</td>\n",
              "      <td>15</td>\n",
              "      <td>1112.0</td>\n",
              "      <td>1424.0</td>\n",
              "      <td>8.0</td>\n",
              "      <td>1438.0</td>\n",
              "      <td>1432</td>\n",
              "      <td>-6.0</td>\n",
              "      <td>0.0</td>\n",
              "      <td>0.0</td>\n",
              "      <td>-1.0</td>\n",
              "      <td>1400-1459</td>\n",
              "      <td>0.0</td>\n",
              "      <td>NaN</td>\n",
              "      <td>0.0</td>\n",
              "      <td>158.0</td>\n",
              "      <td>155.0</td>\n",
              "      <td>132.0</td>\n",
              "      <td>1.0</td>\n",
              "      <td>986.0</td>\n",
              "      <td>4.0</td>\n",
              "      <td>NaN</td>\n",
              "      <td>NaN</td>\n",
              "      <td>NaN</td>\n",
              "      <td>NaN</td>\n",
              "      <td>NaN</td>\n",
              "      <td>NaN</td>\n",
              "      <td>NaN</td>\n",
              "      <td>NaN</td>\n",
              "      <td>NaN</td>\n",
              "    </tr>\n",
              "    <tr>\n",
              "      <th>1</th>\n",
              "      <td>2016</td>\n",
              "      <td>1</td>\n",
              "      <td>1</td>\n",
              "      <td>7</td>\n",
              "      <td>4</td>\n",
              "      <td>2016-01-07</td>\n",
              "      <td>AA</td>\n",
              "      <td>19805</td>\n",
              "      <td>AA</td>\n",
              "      <td>N434AA</td>\n",
              "      <td>43</td>\n",
              "      <td>11298</td>\n",
              "      <td>1129804</td>\n",
              "      <td>30194</td>\n",
              "      <td>DFW</td>\n",
              "      <td>Dallas/Fort Worth, TX</td>\n",
              "      <td>TX</td>\n",
              "      <td>48.0</td>\n",
              "      <td>Texas</td>\n",
              "      <td>74</td>\n",
              "      <td>11433</td>\n",
              "      <td>1143302</td>\n",
              "      <td>31295</td>\n",
              "      <td>DTW</td>\n",
              "      <td>Detroit, MI</td>\n",
              "      <td>MI</td>\n",
              "      <td>26.0</td>\n",
              "      <td>Michigan</td>\n",
              "      <td>43.0</td>\n",
              "      <td>1100.0</td>\n",
              "      <td>1056</td>\n",
              "      <td>-4.0</td>\n",
              "      <td>0.0</td>\n",
              "      <td>0.0</td>\n",
              "      <td>-1.0</td>\n",
              "      <td>1100-1159</td>\n",
              "      <td>14</td>\n",
              "      <td>1110.0</td>\n",
              "      <td>1416.0</td>\n",
              "      <td>10.0</td>\n",
              "      <td>1438.0</td>\n",
              "      <td>1426</td>\n",
              "      <td>-12.0</td>\n",
              "      <td>0.0</td>\n",
              "      <td>0.0</td>\n",
              "      <td>-1.0</td>\n",
              "      <td>1400-1459</td>\n",
              "      <td>0.0</td>\n",
              "      <td>NaN</td>\n",
              "      <td>0.0</td>\n",
              "      <td>158.0</td>\n",
              "      <td>150.0</td>\n",
              "      <td>126.0</td>\n",
              "      <td>1.0</td>\n",
              "      <td>986.0</td>\n",
              "      <td>4.0</td>\n",
              "      <td>NaN</td>\n",
              "      <td>NaN</td>\n",
              "      <td>NaN</td>\n",
              "      <td>NaN</td>\n",
              "      <td>NaN</td>\n",
              "      <td>NaN</td>\n",
              "      <td>NaN</td>\n",
              "      <td>NaN</td>\n",
              "      <td>NaN</td>\n",
              "    </tr>\n",
              "    <tr>\n",
              "      <th>2</th>\n",
              "      <td>2016</td>\n",
              "      <td>1</td>\n",
              "      <td>1</td>\n",
              "      <td>8</td>\n",
              "      <td>5</td>\n",
              "      <td>2016-01-08</td>\n",
              "      <td>AA</td>\n",
              "      <td>19805</td>\n",
              "      <td>AA</td>\n",
              "      <td>N541AA</td>\n",
              "      <td>43</td>\n",
              "      <td>11298</td>\n",
              "      <td>1129804</td>\n",
              "      <td>30194</td>\n",
              "      <td>DFW</td>\n",
              "      <td>Dallas/Fort Worth, TX</td>\n",
              "      <td>TX</td>\n",
              "      <td>48.0</td>\n",
              "      <td>Texas</td>\n",
              "      <td>74</td>\n",
              "      <td>11433</td>\n",
              "      <td>1143302</td>\n",
              "      <td>31295</td>\n",
              "      <td>DTW</td>\n",
              "      <td>Detroit, MI</td>\n",
              "      <td>MI</td>\n",
              "      <td>26.0</td>\n",
              "      <td>Michigan</td>\n",
              "      <td>43.0</td>\n",
              "      <td>1100.0</td>\n",
              "      <td>1055</td>\n",
              "      <td>-5.0</td>\n",
              "      <td>0.0</td>\n",
              "      <td>0.0</td>\n",
              "      <td>-1.0</td>\n",
              "      <td>1100-1159</td>\n",
              "      <td>21</td>\n",
              "      <td>1116.0</td>\n",
              "      <td>1431.0</td>\n",
              "      <td>14.0</td>\n",
              "      <td>1438.0</td>\n",
              "      <td>1445</td>\n",
              "      <td>7.0</td>\n",
              "      <td>7.0</td>\n",
              "      <td>0.0</td>\n",
              "      <td>0.0</td>\n",
              "      <td>1400-1459</td>\n",
              "      <td>0.0</td>\n",
              "      <td>NaN</td>\n",
              "      <td>0.0</td>\n",
              "      <td>158.0</td>\n",
              "      <td>170.0</td>\n",
              "      <td>135.0</td>\n",
              "      <td>1.0</td>\n",
              "      <td>986.0</td>\n",
              "      <td>4.0</td>\n",
              "      <td>NaN</td>\n",
              "      <td>NaN</td>\n",
              "      <td>NaN</td>\n",
              "      <td>NaN</td>\n",
              "      <td>NaN</td>\n",
              "      <td>NaN</td>\n",
              "      <td>NaN</td>\n",
              "      <td>NaN</td>\n",
              "      <td>NaN</td>\n",
              "    </tr>\n",
              "    <tr>\n",
              "      <th>3</th>\n",
              "      <td>2016</td>\n",
              "      <td>1</td>\n",
              "      <td>1</td>\n",
              "      <td>9</td>\n",
              "      <td>6</td>\n",
              "      <td>2016-01-09</td>\n",
              "      <td>AA</td>\n",
              "      <td>19805</td>\n",
              "      <td>AA</td>\n",
              "      <td>N489AA</td>\n",
              "      <td>43</td>\n",
              "      <td>11298</td>\n",
              "      <td>1129804</td>\n",
              "      <td>30194</td>\n",
              "      <td>DFW</td>\n",
              "      <td>Dallas/Fort Worth, TX</td>\n",
              "      <td>TX</td>\n",
              "      <td>48.0</td>\n",
              "      <td>Texas</td>\n",
              "      <td>74</td>\n",
              "      <td>11433</td>\n",
              "      <td>1143302</td>\n",
              "      <td>31295</td>\n",
              "      <td>DTW</td>\n",
              "      <td>Detroit, MI</td>\n",
              "      <td>MI</td>\n",
              "      <td>26.0</td>\n",
              "      <td>Michigan</td>\n",
              "      <td>43.0</td>\n",
              "      <td>1100.0</td>\n",
              "      <td>1102</td>\n",
              "      <td>2.0</td>\n",
              "      <td>2.0</td>\n",
              "      <td>0.0</td>\n",
              "      <td>0.0</td>\n",
              "      <td>1100-1159</td>\n",
              "      <td>13</td>\n",
              "      <td>1115.0</td>\n",
              "      <td>1424.0</td>\n",
              "      <td>9.0</td>\n",
              "      <td>1438.0</td>\n",
              "      <td>1433</td>\n",
              "      <td>-5.0</td>\n",
              "      <td>0.0</td>\n",
              "      <td>0.0</td>\n",
              "      <td>-1.0</td>\n",
              "      <td>1400-1459</td>\n",
              "      <td>0.0</td>\n",
              "      <td>NaN</td>\n",
              "      <td>0.0</td>\n",
              "      <td>158.0</td>\n",
              "      <td>151.0</td>\n",
              "      <td>129.0</td>\n",
              "      <td>1.0</td>\n",
              "      <td>986.0</td>\n",
              "      <td>4.0</td>\n",
              "      <td>NaN</td>\n",
              "      <td>NaN</td>\n",
              "      <td>NaN</td>\n",
              "      <td>NaN</td>\n",
              "      <td>NaN</td>\n",
              "      <td>NaN</td>\n",
              "      <td>NaN</td>\n",
              "      <td>NaN</td>\n",
              "      <td>NaN</td>\n",
              "    </tr>\n",
              "    <tr>\n",
              "      <th>4</th>\n",
              "      <td>2016</td>\n",
              "      <td>1</td>\n",
              "      <td>1</td>\n",
              "      <td>10</td>\n",
              "      <td>7</td>\n",
              "      <td>2016-01-10</td>\n",
              "      <td>AA</td>\n",
              "      <td>19805</td>\n",
              "      <td>AA</td>\n",
              "      <td>N439AA</td>\n",
              "      <td>43</td>\n",
              "      <td>11298</td>\n",
              "      <td>1129804</td>\n",
              "      <td>30194</td>\n",
              "      <td>DFW</td>\n",
              "      <td>Dallas/Fort Worth, TX</td>\n",
              "      <td>TX</td>\n",
              "      <td>48.0</td>\n",
              "      <td>Texas</td>\n",
              "      <td>74</td>\n",
              "      <td>11433</td>\n",
              "      <td>1143302</td>\n",
              "      <td>31295</td>\n",
              "      <td>DTW</td>\n",
              "      <td>Detroit, MI</td>\n",
              "      <td>MI</td>\n",
              "      <td>26.0</td>\n",
              "      <td>Michigan</td>\n",
              "      <td>43.0</td>\n",
              "      <td>1100.0</td>\n",
              "      <td>1240</td>\n",
              "      <td>100.0</td>\n",
              "      <td>100.0</td>\n",
              "      <td>1.0</td>\n",
              "      <td>6.0</td>\n",
              "      <td>1100-1159</td>\n",
              "      <td>20</td>\n",
              "      <td>1300.0</td>\n",
              "      <td>1617.0</td>\n",
              "      <td>14.0</td>\n",
              "      <td>1438.0</td>\n",
              "      <td>1631</td>\n",
              "      <td>113.0</td>\n",
              "      <td>113.0</td>\n",
              "      <td>1.0</td>\n",
              "      <td>7.0</td>\n",
              "      <td>1400-1459</td>\n",
              "      <td>0.0</td>\n",
              "      <td>NaN</td>\n",
              "      <td>0.0</td>\n",
              "      <td>158.0</td>\n",
              "      <td>171.0</td>\n",
              "      <td>137.0</td>\n",
              "      <td>1.0</td>\n",
              "      <td>986.0</td>\n",
              "      <td>4.0</td>\n",
              "      <td>0.0</td>\n",
              "      <td>0.0</td>\n",
              "      <td>47.0</td>\n",
              "      <td>0.0</td>\n",
              "      <td>66.0</td>\n",
              "      <td>NaN</td>\n",
              "      <td>NaN</td>\n",
              "      <td>NaN</td>\n",
              "      <td>NaN</td>\n",
              "    </tr>\n",
              "  </tbody>\n",
              "</table>\n",
              "</div>"
            ],
            "text/plain": [
              "   YEAR QUARTER  MONTH  ... TOTAL_ADD_GTIME LONGEST_ADD_GTIME Unnamed: 64\n",
              "0  2016       1      1  ...             NaN               NaN         NaN\n",
              "1  2016       1      1  ...             NaN               NaN         NaN\n",
              "2  2016       1      1  ...             NaN               NaN         NaN\n",
              "3  2016       1      1  ...             NaN               NaN         NaN\n",
              "4  2016       1      1  ...             NaN               NaN         NaN\n",
              "\n",
              "[5 rows x 65 columns]"
            ]
          },
          "metadata": {
            "tags": []
          },
          "execution_count": 7
        }
      ]
    },
    {
      "cell_type": "code",
      "metadata": {
        "id": "_485VuCM8G3-",
        "colab_type": "code",
        "colab": {}
      },
      "source": [
        "#we have milions data lets takea sample of them for comparison  \n",
        "start_date='2016-01-01'\n",
        "end_date='2016-02-28'\n",
        "#greater than the start date and smaller than the end date\n",
        "mask = (data['FL_DATE'] > start_date) & (data['FL_DATE'] <= end_date)"
      ],
      "execution_count": 0,
      "outputs": []
    },
    {
      "cell_type": "code",
      "metadata": {
        "id": "h-3lFANbsyF8",
        "colab_type": "code",
        "colab": {}
      },
      "source": [
        "#sample data frame only firts 2 months\n",
        "sample_df = data.loc[mask]\n"
      ],
      "execution_count": 0,
      "outputs": []
    },
    {
      "cell_type": "code",
      "metadata": {
        "id": "wP43k3tO7uxn",
        "colab_type": "code",
        "outputId": "2d45276e-e100-4bae-911a-e0d20977fec1",
        "colab": {
          "base_uri": "https://localhost:8080/",
          "height": 34
        }
      },
      "source": [
        "sample_df.shape #(841136, 65)"
      ],
      "execution_count": 10,
      "outputs": [
        {
          "output_type": "execute_result",
          "data": {
            "text/plain": [
              "(841136, 65)"
            ]
          },
          "metadata": {
            "tags": []
          },
          "execution_count": 10
        }
      ]
    },
    {
      "cell_type": "code",
      "metadata": {
        "id": "3hkViedcgBDf",
        "colab_type": "code",
        "colab": {
          "base_uri": "https://localhost:8080/",
          "height": 221
        },
        "outputId": "89caa1bb-ad18-4879-f735-a43d9d780c5c"
      },
      "source": [
        "sample_df.isnull().sum()"
      ],
      "execution_count": 11,
      "outputs": [
        {
          "output_type": "execute_result",
          "data": {
            "text/plain": [
              "YEAR                        0\n",
              "QUARTER                     0\n",
              "MONTH                       0\n",
              "DAY_OF_MONTH                0\n",
              "DAY_OF_WEEK                 0\n",
              "                        ...  \n",
              "LATE_AIRCRAFT_DELAY    711577\n",
              "FIRST_DEP_TIME         836210\n",
              "TOTAL_ADD_GTIME        836210\n",
              "LONGEST_ADD_GTIME      836210\n",
              "Unnamed: 64            841136\n",
              "Length: 65, dtype: int64"
            ]
          },
          "metadata": {
            "tags": []
          },
          "execution_count": 11
        }
      ]
    },
    {
      "cell_type": "markdown",
      "metadata": {
        "id": "9rpVDag5_iX2",
        "colab_type": "text"
      },
      "source": [
        "###Lets Look at our Y###"
      ]
    },
    {
      "cell_type": "code",
      "metadata": {
        "id": "ASmGSaEd_li5",
        "colab_type": "code",
        "colab": {}
      },
      "source": [
        "def is_delay_ARR(data):  #so this is for y - our Y\n",
        "  if data<=0:  #early\n",
        "    return False\n",
        "  if data>0:  #delay\n",
        "    return True"
      ],
      "execution_count": 0,
      "outputs": []
    },
    {
      "cell_type": "code",
      "metadata": {
        "id": "u50XNcMo_okZ",
        "colab_type": "code",
        "outputId": "9f0b66ea-cc72-4e82-a96e-ffd0d7b7eb49",
        "colab": {
          "base_uri": "https://localhost:8080/",
          "height": 119
        }
      },
      "source": [
        "sample_df[\"is_ARR_delay\"]=sample_df[\"ARR_DELAY\"].apply(is_delay_ARR)"
      ],
      "execution_count": 13,
      "outputs": [
        {
          "output_type": "stream",
          "text": [
            "/usr/local/lib/python3.6/dist-packages/ipykernel_launcher.py:1: SettingWithCopyWarning: \n",
            "A value is trying to be set on a copy of a slice from a DataFrame.\n",
            "Try using .loc[row_indexer,col_indexer] = value instead\n",
            "\n",
            "See the caveats in the documentation: http://pandas.pydata.org/pandas-docs/stable/user_guide/indexing.html#returning-a-view-versus-a-copy\n",
            "  \"\"\"Entry point for launching an IPython kernel.\n"
          ],
          "name": "stderr"
        }
      ]
    },
    {
      "cell_type": "code",
      "metadata": {
        "id": "7B5wZMyr_wgD",
        "colab_type": "code",
        "colab": {
          "base_uri": "https://localhost:8080/",
          "height": 314
        },
        "outputId": "ba296adf-29c2-4c2d-e893-93682f87058a"
      },
      "source": [
        "sample_df[\"is_ARR_delay\"].value_counts(normalize=True, sort = True,).plot.bar(title='ARR_delay distribution(percentage)')\n"
      ],
      "execution_count": 14,
      "outputs": [
        {
          "output_type": "execute_result",
          "data": {
            "text/plain": [
              "<matplotlib.axes._subplots.AxesSubplot at 0x7f996cf9d828>"
            ]
          },
          "metadata": {
            "tags": []
          },
          "execution_count": 14
        },
        {
          "output_type": "display_data",
          "data": {
            "image/png": "[encoded data removed]",
            "text/plain": [
              "<Figure size 432x288 with 1 Axes>"
            ]
          },
          "metadata": {
            "tags": []
          }
        }
      ]
    },
    {
      "cell_type": "markdown",
      "metadata": {
        "id": "D4UsFTHAARxb",
        "colab_type": "text"
      },
      "source": [
        "###Lets Explore the data###"
      ]
    },
    {
      "cell_type": "code",
      "metadata": {
        "id": "Xn_pk8G1AVqW",
        "colab_type": "code",
        "outputId": "5afebfea-48a2-4f64-93ba-021bed8856f4",
        "colab": {
          "base_uri": "https://localhost:8080/",
          "height": 119
        }
      },
      "source": [
        "#lets start with day of week(we need to change the type)\n",
        "sample_df[\"DAY_OF_WEEK\"] = sample_df[\"DAY_OF_WEEK\"].astype(str)"
      ],
      "execution_count": 15,
      "outputs": [
        {
          "output_type": "stream",
          "text": [
            "/usr/local/lib/python3.6/dist-packages/ipykernel_launcher.py:1: SettingWithCopyWarning: \n",
            "A value is trying to be set on a copy of a slice from a DataFrame.\n",
            "Try using .loc[row_indexer,col_indexer] = value instead\n",
            "\n",
            "See the caveats in the documentation: http://pandas.pydata.org/pandas-docs/stable/user_guide/indexing.html#returning-a-view-versus-a-copy\n",
            "  \"\"\"Entry point for launching an IPython kernel.\n"
          ],
          "name": "stderr"
        }
      ]
    },
    {
      "cell_type": "code",
      "metadata": {
        "id": "YZOEnINABBLc",
        "colab_type": "code",
        "outputId": "5603762a-6961-4a0c-e386-9ca6c0e967f9",
        "colab": {
          "base_uri": "https://localhost:8080/",
          "height": 454
        }
      },
      "source": [
        "#show the delay on arrival according to days in week\n",
        "days_delays = sample_df.groupby(['DAY_OF_WEEK', 'is_ARR_delay']).size().unstack().pipe(lambda df: df.divide(df.sum(axis=1), axis=0))\n",
        "week = ['Monday', 'Tuesday', 'Wednesday', 'Thursday', 'Friday', 'Saturday', 'Sunday']  #am i sure that the number is correct versus the days\n",
        "ax=days_delays.plot.bar(title='Distribution of ARR_Delay per weekday')\n",
        "ax.set_ylabel('Percentage of Flights Arrive Delay')\n",
        "ax.set_xticklabels(week, rotation = 45)"
      ],
      "execution_count": 16,
      "outputs": [
        {
          "output_type": "execute_result",
          "data": {
            "text/plain": [
              "[Text(0, 0, 'Monday'),\n",
              " Text(0, 0, 'Tuesday'),\n",
              " Text(0, 0, 'Wednesday'),\n",
              " Text(0, 0, 'Thursday'),\n",
              " Text(0, 0, 'Friday'),\n",
              " Text(0, 0, 'Saturday'),\n",
              " Text(0, 0, 'Sunday')]"
            ]
          },
          "metadata": {
            "tags": []
          },
          "execution_count": 16
        },
        {
          "output_type": "display_data",
          "data": {
            "image/png": "[encoded data removed]",
            "text/plain": [
              "<Figure size 432x288 with 1 Axes>"
            ]
          },
          "metadata": {
            "tags": []
          }
        }
      ]
    },
    {
      "cell_type": "code",
      "metadata": {
        "id": "o19PCxNDBEqk",
        "colab_type": "code",
        "colab": {}
      },
      "source": [
        "#now lets create a feature\n",
        "def is_Dep_delay_ontime_early(data):  #lets do hot encoding to departure , we can do transformer on it\n",
        "  if data<0:  #early\n",
        "    return 1\n",
        "  if data>0:  #delay\n",
        "    return 2\n",
        "  if data ==0:  #on time\n",
        "    return 3\n",
        "  else:\n",
        "    return 0"
      ],
      "execution_count": 0,
      "outputs": []
    },
    {
      "cell_type": "code",
      "metadata": {
        "id": "zgDNcVszBJhc",
        "colab_type": "code",
        "outputId": "a662ed24-85b0-4b57-e4f1-f7c86e8a37e3",
        "colab": {
          "base_uri": "https://localhost:8080/",
          "height": 119
        }
      },
      "source": [
        "sample_df[\"is_DEP_delay_ontime_early\"]=sample_df[\"DEP_DELAY\"].apply(is_Dep_delay_ontime_early)\n",
        "delay_dep_arr = sample_df.groupby(['is_DEP_delay_ontime_early', 'is_ARR_delay']).size().unstack().pipe(lambda df: df.divide(df.sum(axis=1), axis=0))\n"
      ],
      "execution_count": 18,
      "outputs": [
        {
          "output_type": "stream",
          "text": [
            "/usr/local/lib/python3.6/dist-packages/ipykernel_launcher.py:1: SettingWithCopyWarning: \n",
            "A value is trying to be set on a copy of a slice from a DataFrame.\n",
            "Try using .loc[row_indexer,col_indexer] = value instead\n",
            "\n",
            "See the caveats in the documentation: http://pandas.pydata.org/pandas-docs/stable/user_guide/indexing.html#returning-a-view-versus-a-copy\n",
            "  \"\"\"Entry point for launching an IPython kernel.\n"
          ],
          "name": "stderr"
        }
      ]
    },
    {
      "cell_type": "code",
      "metadata": {
        "id": "P86gdPRDBMh8",
        "colab_type": "code",
        "outputId": "d8a500e8-6aac-4c6d-f84d-e6ffeba16e4f",
        "colab": {
          "base_uri": "https://localhost:8080/",
          "height": 335
        }
      },
      "source": [
        "#show the delay on arrival according to days in week\n",
        "delay_dep_arr = sample_df.groupby(['is_DEP_delay_ontime_early', 'is_ARR_delay']).size().unstack().pipe(lambda df: df.divide(df.sum(axis=1), axis=0))\n",
        "DEP_Delay_OnTime_Early=[\"early\",\"delay\",\"ontime\"]\n",
        "ax=delay_dep_arr.plot.bar(title='Distribution of DEP_Status VS ARR_Delay')\n",
        "ax.set_ylabel('Flights Arrive Delay according if is DEP Delay')\n",
        "ax.set_xticklabels(DEP_Delay_OnTime_Early, rotation = 45)"
      ],
      "execution_count": 19,
      "outputs": [
        {
          "output_type": "execute_result",
          "data": {
            "text/plain": [
              "[Text(0, 0, 'early'), Text(0, 0, 'delay'), Text(0, 0, 'ontime')]"
            ]
          },
          "metadata": {
            "tags": []
          },
          "execution_count": 19
        },
        {
          "output_type": "display_data",
          "data": {
            "image/png": "[encoded data removed]",
            "text/plain": [
              "<Figure size 432x288 with 1 Axes>"
            ]
          },
          "metadata": {
            "tags": []
          }
        }
      ]
    },
    {
      "cell_type": "code",
      "metadata": {
        "id": "sLTcHirXBP-H",
        "colab_type": "code",
        "colab": {}
      },
      "source": [
        "###map carrier  , אולי קשר לחברות בד or mayme the time of the flight, or specific carrier\n",
        "carrier_dict={\"WN\": 'Southwest Airlines',\n",
        " \"AA\": 'American Airlines',\n",
        " \"DL\": 'Delta Air Lines',\n",
        " \"OO\": 'SkyWest Airlines',\n",
        " \"EV\": 'Atlantic Southeast Airlines',\n",
        " \"UA\": 'United Airlines',\n",
        " \"B6\": 'JetBlue Airways',\n",
        " \"AS\": 'Alaska Airlines, Inc.',#####stopped here\n",
        " \"NK\": 'Spirit Airlines',\n",
        " \"F9\": 'Frontier Airlines',\n",
        "  \"HA\": 'Hawaiian Airlines',\n",
        " \"VX\": 'Virgin America'}"
      ],
      "execution_count": 0,
      "outputs": []
    },
    {
      "cell_type": "code",
      "metadata": {
        "id": "SAj9xKYSBS6B",
        "colab_type": "code",
        "colab": {}
      },
      "source": [
        "def update_carrier_name(data):   #can do transformet here\n",
        "  return carrier_dict.get(data)"
      ],
      "execution_count": 0,
      "outputs": []
    },
    {
      "cell_type": "code",
      "metadata": {
        "id": "IwbYD9U9Bnma",
        "colab_type": "code",
        "outputId": "c91eac28-28cb-4192-f678-89f8b7f9fa90",
        "colab": {
          "base_uri": "https://localhost:8080/",
          "height": 119
        }
      },
      "source": [
        "sample_df[\"UNIQUE_CARRIER_NAME\"]=sample_df[\"UNIQUE_CARRIER\"].apply(update_carrier_name)"
      ],
      "execution_count": 22,
      "outputs": [
        {
          "output_type": "stream",
          "text": [
            "/usr/local/lib/python3.6/dist-packages/ipykernel_launcher.py:1: SettingWithCopyWarning: \n",
            "A value is trying to be set on a copy of a slice from a DataFrame.\n",
            "Try using .loc[row_indexer,col_indexer] = value instead\n",
            "\n",
            "See the caveats in the documentation: http://pandas.pydata.org/pandas-docs/stable/user_guide/indexing.html#returning-a-view-versus-a-copy\n",
            "  \"\"\"Entry point for launching an IPython kernel.\n"
          ],
          "name": "stderr"
        }
      ]
    },
    {
      "cell_type": "code",
      "metadata": {
        "id": "xtCJVrLdBVx7",
        "colab_type": "code",
        "outputId": "9ca33176-dda9-4e32-f376-64df92e2842e",
        "colab": {
          "base_uri": "https://localhost:8080/",
          "height": 435
        }
      },
      "source": [
        "\n",
        "#show the delay on arrival according to Flight carier\n",
        "carrie_delays = sample_df.groupby(['UNIQUE_CARRIER_NAME', 'is_ARR_delay']).size().unstack().pipe(lambda df: df.divide(df.sum(axis=1), axis=0))\n",
        "ax=carrie_delays.plot.bar(title=\"Distribution of ARR_Delay VS Flight_Carrier\")\n",
        "ax.set_ylabel('Percentage of Carier Vs Delay in Arr')"
      ],
      "execution_count": 23,
      "outputs": [
        {
          "output_type": "execute_result",
          "data": {
            "text/plain": [
              "Text(0, 0.5, 'Percentage of Carier Vs Delay in Arr')"
            ]
          },
          "metadata": {
            "tags": []
          },
          "execution_count": 23
        },
        {
          "output_type": "display_data",
          "data": {
            "image/png": "[encoded data removed]",
            "text/plain": [
              "<Figure size 432x288 with 1 Axes>"
            ]
          },
          "metadata": {
            "tags": []
          }
        }
      ]
    },
    {
      "cell_type": "markdown",
      "metadata": {
        "id": "GH8c91_7Bt65",
        "colab_type": "text"
      },
      "source": [
        "###Feature selection###"
      ]
    },
    {
      "cell_type": "code",
      "metadata": {
        "id": "ryF-6H6jBzTG",
        "colab_type": "code",
        "colab": {}
      },
      "source": [
        "#lets try one approch(manually using importance permutation)"
      ],
      "execution_count": 0,
      "outputs": []
    },
    {
      "cell_type": "markdown",
      "metadata": {
        "id": "g8h7PeaNDSrc",
        "colab_type": "text"
      },
      "source": [
        "##Features_Importance##"
      ]
    },
    {
      "cell_type": "code",
      "metadata": {
        "id": "J20jA3CqB8Ti",
        "colab_type": "code",
        "colab": {}
      },
      "source": [
        "#lets create a copy for us to play with\n",
        "new_df=data.loc[mask]"
      ],
      "execution_count": 0,
      "outputs": []
    },
    {
      "cell_type": "code",
      "metadata": {
        "id": "7cp7vxq3CISr",
        "colab_type": "code",
        "colab": {}
      },
      "source": [
        "new_df_clean=new_df.dropna(how='all')"
      ],
      "execution_count": 0,
      "outputs": []
    },
    {
      "cell_type": "code",
      "metadata": {
        "id": "_rMZGtJ-CRDy",
        "colab_type": "code",
        "colab": {}
      },
      "source": [
        "new_df_cat=pd.get_dummies(new_df_clean[:100000])"
      ],
      "execution_count": 0,
      "outputs": []
    },
    {
      "cell_type": "code",
      "metadata": {
        "id": "1Hlg99BXC1Dp",
        "colab_type": "code",
        "colab": {}
      },
      "source": [
        "def is_delay_ARR(data):  #so this is for y - our Y\n",
        "  if data<=0:  #early\n",
        "    return False\n",
        "  if data>0:  #delay\n",
        "    return True"
      ],
      "execution_count": 0,
      "outputs": []
    },
    {
      "cell_type": "code",
      "metadata": {
        "id": "UAu1a2rcCxPv",
        "colab_type": "code",
        "colab": {}
      },
      "source": [
        "y=new_df_cat[\"ARR_DELAY\"].apply(is_delay_ARR)"
      ],
      "execution_count": 0,
      "outputs": []
    },
    {
      "cell_type": "code",
      "metadata": {
        "id": "53Bm74zWQ98f",
        "colab_type": "code",
        "colab": {}
      },
      "source": [
        " #create column name withour ARR \n",
        " clean_column_names=[]\n",
        "for column in new_df_cat.columns:\n",
        "    if (('ARR_DEL' not in column) and ('ARR_TIME' not in column)):\n",
        "\n",
        "      clean_column_names.append(column)\n",
        "\n"
      ],
      "execution_count": 0,
      "outputs": []
    },
    {
      "cell_type": "code",
      "metadata": {
        "id": "9ONfXlkuOAmn",
        "colab_type": "code",
        "colab": {}
      },
      "source": [
        "X=new_df_cat[clean_column_names]"
      ],
      "execution_count": 0,
      "outputs": []
    },
    {
      "cell_type": "code",
      "metadata": {
        "id": "IK1d6MRFIzqF",
        "colab_type": "code",
        "colab": {}
      },
      "source": [
        "y=y.fillna(0)\n",
        "X=X.fillna(0)\n",
        "y=y.astype('int')"
      ],
      "execution_count": 0,
      "outputs": []
    },
    {
      "cell_type": "code",
      "metadata": {
        "id": "9EJ-6hRfC_Op",
        "colab_type": "code",
        "colab": {}
      },
      "source": [
        "X_train, X_test, y_train, y_test = train_test_split(X, y, test_size = 0.3, random_state = 123)"
      ],
      "execution_count": 0,
      "outputs": []
    },
    {
      "cell_type": "code",
      "metadata": {
        "id": "i07ZjsIsMycq",
        "colab_type": "code",
        "colab": {}
      },
      "source": [
        "#lets do feature selection from the model"
      ],
      "execution_count": 0,
      "outputs": []
    },
    {
      "cell_type": "code",
      "metadata": {
        "id": "TP2L_HBENCFy",
        "colab_type": "code",
        "colab": {
          "base_uri": "https://localhost:8080/",
          "height": 153
        },
        "outputId": "196f8057-0c25-428c-8300-128f51f32125"
      },
      "source": [
        "from sklearn.feature_selection import SelectFromModel\n",
        "my_model = RandomForestClassifier(n_estimators=100,random_state=0)  #default clasifier params\n",
        "my_model.fit(X_train[:5000], y_train[:5000])\n",
        "#SelectFromModel will select those features which importance is greater than the mean importance of all the features by default, but we can alter this threshold if we want.\n",
        "sel = SelectFromModel(my_model)\n",
        "sel.fit(X_train[:5000], y_train[:5000])\n",
        "selected_feat= X_train.columns[(sel.get_support())]\n",
        "print(selected_feat)"
      ],
      "execution_count": 35,
      "outputs": [
        {
          "output_type": "stream",
          "text": [
            "Index(['AIRLINE_ID', 'ORIGIN_AIRPORT_SEQ_ID', 'ORIGIN_STATE_FIPS',\n",
            "       'DEST_STATE_FIPS', 'DEST_WAC', 'CRS_DEP_TIME', 'DEP_DELAY',\n",
            "       'DEP_DELAY_NEW', 'DEP_DEL15', 'DEP_DELAY_GROUP',\n",
            "       ...\n",
            "       'TAXI_OUT_43.0', 'TAXI_OUT_44.0', 'TAXI_OUT_45.0', 'TAXI_OUT_46.0',\n",
            "       'TAXI_OUT_48.0', 'TAXI_OUT_50.0', 'TAXI_OUT_51.0', 'TAXI_OUT_60.0',\n",
            "       'TAXI_OUT_61.0', 'CANCELLATION_CODE_B'],\n",
            "      dtype='object', length=799)\n"
          ],
          "name": "stdout"
        }
      ]
    },
    {
      "cell_type": "code",
      "metadata": {
        "id": "bLxEyy2ARFZx",
        "colab_type": "code",
        "colab": {
          "base_uri": "https://localhost:8080/",
          "height": 298
        },
        "outputId": "60971c5f-00ae-4fc3-9e50-9724cac23081"
      },
      "source": [
        "importances = sel.estimator_.feature_importances_\n",
        "feat_importances = pd.Series(importances, index=X_train.columns) \n",
        "feat_importances.nlargest(15).plot(title='15 most importance features',kind='barh',color=['black', 'red', 'green', 'blue', 'cyan'])  #top15"
      ],
      "execution_count": 36,
      "outputs": [
        {
          "output_type": "execute_result",
          "data": {
            "text/plain": [
              "<matplotlib.axes._subplots.AxesSubplot at 0x7f990310bac8>"
            ]
          },
          "metadata": {
            "tags": []
          },
          "execution_count": 36
        },
        {
          "output_type": "display_data",
          "data": {
            "image/png": "[encoded data removed]",
            "text/plain": [
              "<Figure size 432x288 with 1 Axes>"
            ]
          },
          "metadata": {
            "tags": []
          }
        }
      ]
    },
    {
      "cell_type": "code",
      "metadata": {
        "id": "ct7qoVAAUagQ",
        "colab_type": "code",
        "colab": {}
      },
      "source": [
        "y_pred_test = my_model.predict(X_test)\n",
        "y_pred_test_proba=my_model.predict_proba(X_test)"
      ],
      "execution_count": 0,
      "outputs": []
    },
    {
      "cell_type": "code",
      "metadata": {
        "id": "gLXBipCMUy4B",
        "colab_type": "code",
        "colab": {}
      },
      "source": [
        "\n",
        "my_confusion_matrix = confusion_matrix(y_test, y_pred_test)\n",
        "\n",
        "my_confusion_matrix = pd.DataFrame(my_confusion_matrix, \n",
        "                                   index = my_model.classes_, \n",
        "                                   columns = my_model.classes_)"
      ],
      "execution_count": 0,
      "outputs": []
    },
    {
      "cell_type": "code",
      "metadata": {
        "id": "8uUVM6XQU1ht",
        "colab_type": "code",
        "colab": {}
      },
      "source": [
        "def my_normalize(df):\n",
        "    return pd.DataFrame(normalize(df, norm = 'l1', axis=1), index =  df.index, columns = df.columns)"
      ],
      "execution_count": 0,
      "outputs": []
    },
    {
      "cell_type": "code",
      "metadata": {
        "id": "r6ldbpLoU37l",
        "colab_type": "code",
        "outputId": "6fba4a78-f0ea-45ac-8665-f04d6308943e",
        "colab": {
          "base_uri": "https://localhost:8080/",
          "height": 170
        }
      },
      "source": [
        "my_confusion_matrix = my_normalize(my_confusion_matrix)\n",
        "my_confusion_matrix.stack().sort_values()\n",
        "\n",
        "print(classification_report(y_test, y_pred_test))  #recall of 0.69  very high number !!!"
      ],
      "execution_count": 40,
      "outputs": [
        {
          "output_type": "stream",
          "text": [
            "              precision    recall  f1-score   support\n",
            "\n",
            "           0       0.83      0.97      0.90     19617\n",
            "           1       0.91      0.63      0.75     10383\n",
            "\n",
            "    accuracy                           0.85     30000\n",
            "   macro avg       0.87      0.80      0.82     30000\n",
            "weighted avg       0.86      0.85      0.84     30000\n",
            "\n"
          ],
          "name": "stdout"
        }
      ]
    },
    {
      "cell_type": "markdown",
      "metadata": {
        "id": "e7Ggrc5ARpEm",
        "colab_type": "text"
      },
      "source": [
        "###Lets see if we can improve the matric that we got from all the features"
      ]
    },
    {
      "cell_type": "markdown",
      "metadata": {
        "id": "xYWR1MdiECr5",
        "colab_type": "text"
      },
      "source": [
        "#Lets Create our own Features#"
      ]
    },
    {
      "cell_type": "code",
      "metadata": {
        "id": "5ldRcdO6kCmv",
        "colab_type": "code",
        "colab": {}
      },
      "source": [
        "\n",
        "new_sample=sample_df.fillna(0)\n",
        "#new_sample=sample_df.dropna(how='all')"
      ],
      "execution_count": 0,
      "outputs": []
    },
    {
      "cell_type": "code",
      "metadata": {
        "id": "qS6Bf56vjYud",
        "colab_type": "code",
        "colab": {}
      },
      "source": [
        "def is_delay_ARR(data):  #so this is for y - our Y\n",
        "  if data<=0:  #early\n",
        "    return False\n",
        "  if data>0:  #delay\n",
        "    return True"
      ],
      "execution_count": 0,
      "outputs": []
    },
    {
      "cell_type": "markdown",
      "metadata": {
        "id": "Q-tC2x7VSAhn",
        "colab_type": "text"
      },
      "source": [
        "Our Y"
      ]
    },
    {
      "cell_type": "code",
      "metadata": {
        "id": "sD28FtqPjfQF",
        "colab_type": "code",
        "colab": {}
      },
      "source": [
        "y=new_sample[\"ARR_DELAY\"].apply(is_delay_ARR)\n",
        "y=y.fillna(0)\n",
        "y=y.astype(int)\n"
      ],
      "execution_count": 0,
      "outputs": []
    },
    {
      "cell_type": "markdown",
      "metadata": {
        "id": "w1Hjyr3Gcmvn",
        "colab_type": "text"
      },
      "source": [
        "###Create aditional Coloumns"
      ]
    },
    {
      "cell_type": "markdown",
      "metadata": {
        "id": "B1N88kLPw2bY",
        "colab_type": "text"
      },
      "source": [
        "###Dep_Time"
      ]
    },
    {
      "cell_type": "code",
      "metadata": {
        "id": "AJlHn4ihxzxv",
        "colab_type": "code",
        "colab": {}
      },
      "source": [
        "def round_time(data):\n",
        "      if len(data)<4:\n",
        "        return 0\n",
        "      if 'nan' in data:\n",
        "        return 0\n",
        "      if data[2:4]>'30':\n",
        "        return int(data[:2])+1\n",
        "      else:\n",
        "        return int(data[:2])"
      ],
      "execution_count": 0,
      "outputs": []
    },
    {
      "cell_type": "code",
      "metadata": {
        "id": "ve17F6UfdJfs",
        "colab_type": "code",
        "colab": {}
      },
      "source": [
        "#maybe the actual deptimein Hour (round the 2 firts digit)\n",
        "dep_time_str=new_sample[\"DEP_TIME\"].astype(str).str[:4]\n",
        "\n",
        "new_sample[\"Actual_DEP_Time\"]=dep_time_str\n",
        "new_sample[\"date_time_in_hour\"] = dep_time_str.apply(round_time).rename(\"Actual_DEP_Time_In_Hours\")"
      ],
      "execution_count": 0,
      "outputs": []
    },
    {
      "cell_type": "markdown",
      "metadata": {
        "id": "o2OAEGzqSc0k",
        "colab_type": "text"
      },
      "source": [
        "###Easy&West Countries"
      ]
    },
    {
      "cell_type": "code",
      "metadata": {
        "id": "PbgIh0QCdd8s",
        "colab_type": "code",
        "colab": {}
      },
      "source": [
        "West_Coast=[\"Alaska\",\"Washington\",\"Oregon\",\"California\",\"Arizona\",\"Colorado\",\"Idaho\",\"Montana\",\"Nevada\",\"New Mexico\",\" Utah\",\"Wyoming\",\"Hawaii\",\"Michigan\"]\n",
        "East_Coast=[\"Maine\", \"New Hampshire\", \"Massachusetts\", \"Rhode Island\", \"Connecticut\", \"New York\", \"New Jersey\",\"Delaware\",\"Maryland\", \"Virginia\", \"North Carolina\", \"South Carolina\", \"Georgia\",\"Florida\"]\n",
        "def East_or_West(data):\n",
        "  if data in West_Coast:\n",
        "    return 1 #\"West\"\n",
        "  if data in  East_Coast:\n",
        "    return 2 #\"East\"\n",
        "  else:\n",
        "    return 0 #none"
      ],
      "execution_count": 0,
      "outputs": []
    },
    {
      "cell_type": "code",
      "metadata": {
        "id": "ttZ24bpkdeyr",
        "colab_type": "code",
        "colab": {}
      },
      "source": [
        "new_sample[\"East_West_Origin\"]=new_sample[\"ORIGIN_STATE_NM\"].apply(East_or_West)\n",
        "\n",
        "new_sample[\"East_West_Dest\"]=new_sample[\"DEST_STATE_NM\"].apply(East_or_West)"
      ],
      "execution_count": 0,
      "outputs": []
    },
    {
      "cell_type": "markdown",
      "metadata": {
        "id": "RZmD3jBIgcJQ",
        "colab_type": "text"
      },
      "source": [
        "###Latitude & Longitude read the data and run the transformer in pipeline"
      ]
    },
    {
      "cell_type": "code",
      "metadata": {
        "id": "ZfDHTCycgjvA",
        "colab_type": "code",
        "colab": {}
      },
      "source": [
        "#countries_data_df = pd.read_csv(__dir__+'states1.csv')\n",
        "countries_data_df = pd.read_csv('states1.csv')"
      ],
      "execution_count": 0,
      "outputs": []
    },
    {
      "cell_type": "code",
      "metadata": {
        "id": "DoncYGsijsyr",
        "colab_type": "code",
        "colab": {}
      },
      "source": [
        "df=countries_data_df[[\" Name\",\"Latitude\",\"Longitude\"]]\n"
      ],
      "execution_count": 0,
      "outputs": []
    },
    {
      "cell_type": "markdown",
      "metadata": {
        "id": "Eyatuj_vvP_C",
        "colab_type": "text"
      },
      "source": [
        "###Our X"
      ]
    },
    {
      "cell_type": "code",
      "metadata": {
        "id": "nEw6MniCjw28",
        "colab_type": "code",
        "colab": {}
      },
      "source": [
        "\n",
        "#X=new_sample.fillna(0)\n",
        "X=new_sample.dropna()\n"
      ],
      "execution_count": 0,
      "outputs": []
    },
    {
      "cell_type": "code",
      "metadata": {
        "id": "PWZVezaL6k-W",
        "colab_type": "code",
        "colab": {}
      },
      "source": [
        "clean_column_names=[]\n",
        "for column in X.columns:\n",
        "  if (('ARR_DEL' not in column) and ('ARR_TIME' not in column) and ('is_ARR_delay' not in column)):\n",
        "    clean_column_names.append(column)"
      ],
      "execution_count": 0,
      "outputs": []
    },
    {
      "cell_type": "code",
      "metadata": {
        "id": "nwhkzUwE6rYm",
        "colab_type": "code",
        "colab": {}
      },
      "source": [
        "temp_df=X[clean_column_names]\n",
        "numeric_features=temp_df.select_dtypes(include=np.number)\n",
        "numeric_features_names=numeric_features.columns\n",
        "categorical_features=temp_df.select_dtypes(exclude=np.number)\n",
        "categorical_features_names=[\"UNIQUE_CARRIER\"]\n",
        "encrich_features_names=[\"ORIGIN_STATE_NM\",\"DEST_STATE_NM\"]\n",
        "\n"
      ],
      "execution_count": 0,
      "outputs": []
    },
    {
      "cell_type": "code",
      "metadata": {
        "id": "N7fDfQ0mqEav",
        "colab_type": "code",
        "colab": {}
      },
      "source": [
        ""
      ],
      "execution_count": 0,
      "outputs": []
    },
    {
      "cell_type": "markdown",
      "metadata": {
        "id": "P8mYUW-igRzd",
        "colab_type": "text"
      },
      "source": [
        "###CreatePipeLine###"
      ]
    },
    {
      "cell_type": "code",
      "metadata": {
        "id": "RC-Vp7STcTx7",
        "colab_type": "code",
        "colab": {}
      },
      "source": [
        "from sklearn.base import BaseEstimator, TransformerMixin\n",
        "#Custom Transformer that extracts columns passed as argument to its constructor \n",
        "class FeatureSelector( BaseEstimator, TransformerMixin ):\n",
        "    #Class Constructor \n",
        "    def __init__( self, feature_names ):\n",
        "        #print(feature_names)\n",
        "        self._feature_names = feature_names \n",
        "    \n",
        "    #Return self nothing else to do here    \n",
        "    def fit( self, X, y = None ):\n",
        "        return self \n",
        "    \n",
        "    #Method that describes what we need this transformer to do\n",
        "    def transform( self, X, y = None ):\n",
        "        return X[ self._feature_names ] "
      ],
      "execution_count": 0,
      "outputs": []
    },
    {
      "cell_type": "code",
      "metadata": {
        "id": "Z2mCoSBWgzX_",
        "colab_type": "code",
        "colab": {}
      },
      "source": [
        "#Custom transformer we wrote to engineer features ( bathrooms per bedroom and/or how old the house is in 2019  ) \n",
        "#passed as boolen arguements to its constructor\n",
        "class AddFeatures(BaseEstimator, TransformerMixin):\n",
        "    #Class Constructor\n",
        "    def __init__(self):\n",
        "      self.start=0\n",
        "    #Return self, nothing else to do here\n",
        "    def fit(self, X, y = None ):\n",
        "      return self \n",
        "    \n",
        "    def is_Dep_delay_ontime_early(self,obj):  #lets do hot encoding to departure , we can do transformer on it\n",
        "      #print(\"1\")\n",
        "      if obj<0:  #early\n",
        "        return 1\n",
        "      if obj>0:  #delay\n",
        "        return 2\n",
        "      if obj ==0:  #on time\n",
        "        return 3\n",
        "      else:\n",
        "        return 0\n",
        "\n",
        "\n",
        "    #Custom transform method that add relevant features\n",
        "    def transform(self, X, y = None):\n",
        "      X.loc[:,'depature_status']=X[\"DEP_DELAY\"].apply(self.is_Dep_delay_ontime_early)\n",
        "      \n",
        "      #Converting any infinity values in the dataset to Nan\n",
        "      X = X.replace( [ np.inf, -np.inf ], np.nan )\n",
        "      #returns a numpy array\n",
        "      return X.values"
      ],
      "execution_count": 0,
      "outputs": []
    },
    {
      "cell_type": "code",
      "metadata": {
        "id": "chX7M0bDeBwp",
        "colab_type": "code",
        "colab": {}
      },
      "source": [
        "def create_Dummies(data):\n",
        "  return pd.get_dummies(data)"
      ],
      "execution_count": 0,
      "outputs": []
    },
    {
      "cell_type": "code",
      "metadata": {
        "id": "4NhygVWMeHhe",
        "colab_type": "code",
        "colab": {}
      },
      "source": [
        "my_dummies = FunctionTransformer(create_Dummies, validate=False)"
      ],
      "execution_count": 0,
      "outputs": []
    },
    {
      "cell_type": "code",
      "metadata": {
        "id": "CEdcSQZYzC6v",
        "colab_type": "code",
        "colab": {}
      },
      "source": [
        "class EnrichmentFeatures(BaseEstimator, TransformerMixin):\n",
        "    #Class Constructor\n",
        "    def __init__(self):\n",
        "      self.Longitude_dict=dict()\n",
        "      self.Latitude_dict=dict()\n",
        "      for name in countries_data_df[\" Name\"]:\n",
        "        value=df.loc[df[' Name'] == name]\n",
        "        self.Longitude_dict[name]=value.Longitude\n",
        "        self.Latitude_dict[name]=value.Latitude\n",
        "    #Return self, nothing else to do here\n",
        "    def fit(self, X, y = None ):\n",
        "        return self \n",
        "   \n",
        "    def get_mean_Latitude_and_Longitude(self,obj):\n",
        "      if 'Missouri' in obj:\n",
        "        return 0 #bug inthe 3rd party that we download the data\n",
        "      if 'U.S.' in obj:\n",
        "        return 0 #as well bug in org data\n",
        "      if 'Puerto Rico' in obj:\n",
        "        return 0 #as w\n",
        "      a = self.Longitude_dict[obj]\n",
        "      b = self.Latitude_dict[obj]\n",
        "      return np.mean([a.values,b.values])\n",
        "    \n",
        "    #Custom transform method that add relevant features\n",
        "    def transform(self, X, y = None):\n",
        "      X.loc[:,\"avg_Latitude_and_Longitude_source\"]=X[\"ORIGIN_STATE_NM\"].apply(self.get_mean_Latitude_and_Longitude)\n",
        "      X.loc[:,\"avg_Latitude_and_Longitude_dest\"]=X[\"DEST_STATE_NM\"].apply(self.get_mean_Latitude_and_Longitude)\n",
        "      #drop redundant column \n",
        "      X.drop('ORIGIN_STATE_NM', axis = 1,inplace=True)\n",
        "      X.drop('DEST_STATE_NM', axis = 1,inplace=True)\n",
        "      return X.values"
      ],
      "execution_count": 0,
      "outputs": []
    },
    {
      "cell_type": "code",
      "metadata": {
        "id": "3IrEhOYQcr3E",
        "colab_type": "code",
        "colab": {}
      },
      "source": [
        "#Defining the steps in the categorical pipeline \n",
        "categorical_pipeline = Pipeline( steps = [ ( 'cat_selector', FeatureSelector(categorical_features_names) ),\n",
        "                                  \n",
        "                                            ( 'my_dummies', my_dummies ) \n",
        "                                         ] )"
      ],
      "execution_count": 0,
      "outputs": []
    },
    {
      "cell_type": "code",
      "metadata": {
        "id": "Djg9iN7LdGJe",
        "colab_type": "code",
        "colab": {}
      },
      "source": [
        "#Defining the steps in the numerical pipeline     \n",
        "numerical_pipeline = Pipeline( steps = [ ( 'num_selector', FeatureSelector(numeric_features_names) ),\n",
        "                                  \n",
        "                                         ( 'AddFeaturesTransformer', AddFeatures() ),\n",
        "                                                                \n",
        "                                          ( 'MinMax', MinMaxScaler() ) \n",
        "                                       ] )"
      ],
      "execution_count": 0,
      "outputs": []
    },
    {
      "cell_type": "code",
      "metadata": {
        "id": "0bRglQJBy6hB",
        "colab_type": "code",
        "colab": {}
      },
      "source": [
        "Enrichment_pipeline=Pipeline(steps = [ ( 'Enrichment_selector', FeatureSelector(encrich_features_names) ),\n",
        "                                       ('EnrichmentFeatures',EnrichmentFeatures())\n",
        "                                      ])"
      ],
      "execution_count": 0,
      "outputs": []
    },
    {
      "cell_type": "code",
      "metadata": {
        "id": "TeWBGv4gdLND",
        "colab_type": "code",
        "colab": {}
      },
      "source": [
        "#Combining transformers pieplines into one full big pipeline horizontally \n",
        "#using FeatureUnion\n",
        "full_transformers_pipeline = FeatureUnion( transformer_list = [ ( 'categorical_pipeline', categorical_pipeline ),                                                   \n",
        "                                                                ( 'Enrichment_pipeline', Enrichment_pipeline ) ,\n",
        "                                                                ( 'numerical_pipeline', numerical_pipeline ),\n",
        "                                                              ] )\n"
      ],
      "execution_count": 0,
      "outputs": []
    },
    {
      "cell_type": "code",
      "metadata": {
        "id": "Fa_FqsZRedR1",
        "colab_type": "code",
        "colab": {}
      },
      "source": [
        "my_model = Pipeline([\n",
        "                  ('my_transformers', full_transformers_pipeline),\n",
        "                  (\"RandomForestclasifier\", RandomForestClassifier(n_estimators=50,random_state=0)) #maybe i willadd clasifier\n",
        "                    ])"
      ],
      "execution_count": 0,
      "outputs": []
    },
    {
      "cell_type": "code",
      "metadata": {
        "id": "Fhg3I47DdQk_",
        "colab_type": "code",
        "colab": {}
      },
      "source": [
        "X_train, X_test, y_train, y_test = train_test_split(X, y, test_size = 0.3, random_state = 123)"
      ],
      "execution_count": 0,
      "outputs": []
    },
    {
      "cell_type": "code",
      "metadata": {
        "id": "P4fRNB3_eiDD",
        "colab_type": "code",
        "colab": {}
      },
      "source": [
        "my_model.fit(X_train[:5000], y_train[:5000])"
      ],
      "execution_count": 0,
      "outputs": []
    },
    {
      "cell_type": "code",
      "metadata": {
        "id": "8J9YYUzMe53B",
        "colab_type": "code",
        "colab": {}
      },
      "source": [
        "y_pred_test = my_model.predict(X_test)\n",
        "y_pred_test_proba=my_model.predict_proba(X_test)"
      ],
      "execution_count": 0,
      "outputs": []
    },
    {
      "cell_type": "code",
      "metadata": {
        "id": "Cl11G82IqKKB",
        "colab_type": "code",
        "colab": {}
      },
      "source": [
        "my_confusion_matrix = confusion_matrix(y_test, y_pred_test)\n",
        "\n",
        "my_confusion_matrix = pd.DataFrame(my_confusion_matrix, \n",
        "                                   index = my_model.classes_, \n",
        "                                   columns = my_model.classes_)\n"
      ],
      "execution_count": 0,
      "outputs": []
    },
    {
      "cell_type": "code",
      "metadata": {
        "id": "xHvwXl3DqMTC",
        "colab_type": "code",
        "colab": {}
      },
      "source": [
        "def my_normalize(df):\n",
        "    return pd.DataFrame(normalize(df, norm = 'l1', axis=1), index =  df.index, columns = df.columns)\n"
      ],
      "execution_count": 0,
      "outputs": []
    },
    {
      "cell_type": "code",
      "metadata": {
        "id": "mJAsR0brqO56",
        "colab_type": "code",
        "outputId": "121810a2-222b-4ff0-a553-91e352d257ca",
        "colab": {
          "base_uri": "https://localhost:8080/",
          "height": 170
        }
      },
      "source": [
        "my_confusion_matrix = my_normalize(my_confusion_matrix)\n",
        "my_confusion_matrix.stack().sort_values()\n",
        "\n",
        "print(classification_report(y_test, y_pred_test))  #got recall of 0.75 even better that the feature importance!!!!(it was 0.69)"
      ],
      "execution_count": 68,
      "outputs": [
        {
          "output_type": "stream",
          "text": [
            "              precision    recall  f1-score   support\n",
            "\n",
            "           0       0.87      0.97      0.92    174555\n",
            "           1       0.90      0.68      0.78     77786\n",
            "\n",
            "    accuracy                           0.88    252341\n",
            "   macro avg       0.89      0.83      0.85    252341\n",
            "weighted avg       0.88      0.88      0.87    252341\n",
            "\n"
          ],
          "name": "stdout"
        }
      ]
    },
    {
      "cell_type": "markdown",
      "metadata": {
        "id": "77X7qRsxOD5n",
        "colab_type": "text"
      },
      "source": [
        "###Cross_Validation"
      ]
    },
    {
      "cell_type": "code",
      "metadata": {
        "id": "cQUKeFlfRBuK",
        "colab_type": "code",
        "colab": {}
      },
      "source": [
        "#my_model.get_params()"
      ],
      "execution_count": 0,
      "outputs": []
    },
    {
      "cell_type": "code",
      "metadata": {
        "id": "us6IxeqaN_m1",
        "colab_type": "code",
        "colab": {}
      },
      "source": [
        "#lets play with the n_estimators\n",
        "my_grid = {\n",
        "           \"RandomForestclasifier__n_estimators\": [10,50,100]\n",
        "          }\n",
        "\n"
      ],
      "execution_count": 0,
      "outputs": []
    },
    {
      "cell_type": "code",
      "metadata": {
        "id": "cNauSAUFOIG0",
        "colab_type": "code",
        "colab": {}
      },
      "source": [
        "gscv = GridSearchCV(my_model,my_grid, cv = 5, verbose=1, scoring = \"neg_log_loss\", n_jobs =10)  #lets run it\n"
      ],
      "execution_count": 0,
      "outputs": []
    },
    {
      "cell_type": "code",
      "metadata": {
        "id": "3rS8RKMqOLI1",
        "colab_type": "code",
        "colab": {}
      },
      "source": [
        "gscv.fit(X_train[:5000], y_train[:5000])  #it cant run , alot of data  #~15 minutess(5000 will be fast)"
      ],
      "execution_count": 0,
      "outputs": []
    },
    {
      "cell_type": "code",
      "metadata": {
        "id": "U7vtKtPZONqf",
        "colab_type": "code",
        "colab": {}
      },
      "source": [
        "pd.DataFrame(gscv.cv_results_).sort_values(\"rank_test_score\")"
      ],
      "execution_count": 0,
      "outputs": []
    },
    {
      "cell_type": "code",
      "metadata": {
        "id": "0iLzNkSYOP8h",
        "colab_type": "code",
        "colab": {}
      },
      "source": [
        "gscv.best_params_  #(what that was rank at firts place-1)"
      ],
      "execution_count": 0,
      "outputs": []
    },
    {
      "cell_type": "code",
      "metadata": {
        "id": "nAl-uMOXOSAe",
        "colab_type": "code",
        "colab": {}
      },
      "source": [
        "#now we will update our model\n",
        "my_model.set_params(**gscv.best_params_)"
      ],
      "execution_count": 0,
      "outputs": []
    },
    {
      "cell_type": "code",
      "metadata": {
        "id": "DvGeGy96OUFl",
        "colab_type": "code",
        "colab": {}
      },
      "source": [
        "#andnow we will fit it and use its probability\n",
        "my_model.fit(X_train[:100000], y_train[:100000])"
      ],
      "execution_count": 0,
      "outputs": []
    },
    {
      "cell_type": "code",
      "metadata": {
        "id": "FCqhBskAOWga",
        "colab_type": "code",
        "colab": {}
      },
      "source": [
        "y_pred_test = my_model.predict(X_test)\n",
        "y_pred_test_proba=my_model.predict_proba(X_test)\n",
        "\n",
        "\n",
        "my_confusion_matrix = confusion_matrix(y_test, y_pred_test)\n",
        "\n",
        "my_confusion_matrix = pd.DataFrame(my_confusion_matrix, \n",
        "                                   index = my_model.classes_, \n",
        "                                   columns = my_model.classes_)\n"
      ],
      "execution_count": 0,
      "outputs": []
    },
    {
      "cell_type": "code",
      "metadata": {
        "id": "KTBHsbM2OYtN",
        "colab_type": "code",
        "colab": {}
      },
      "source": [
        "def my_normalize(df):\n",
        "    return pd.DataFrame(normalize(df, norm = 'l1', axis=1), index =  df.index, columns = df.columns)"
      ],
      "execution_count": 0,
      "outputs": []
    },
    {
      "cell_type": "code",
      "metadata": {
        "id": "Gtp-oLBHOcRh",
        "colab_type": "code",
        "colab": {}
      },
      "source": [
        "my_confusion_matrix = my_normalize(my_confusion_matrix)\n",
        "my_confusion_matrix.stack().sort_values()\n",
        "print(classification_report(y_test, y_pred_test))  #recal wasnt change so our tree is the saem with 50\n"
      ],
      "execution_count": 0,
      "outputs": []
    },
    {
      "cell_type": "markdown",
      "metadata": {
        "id": "2AuGVJkERfod",
        "colab_type": "text"
      },
      "source": [
        "###AUC"
      ]
    },
    {
      "cell_type": "code",
      "metadata": {
        "id": "Dg8Uq-ZtRhJe",
        "colab_type": "code",
        "colab": {}
      },
      "source": [
        "from sklearn import datasets, metrics\n",
        "import matplotlib.pyplot as plt\n",
        "\n",
        "metrics.plot_roc_curve(my_model,X_test[:5000],y_test[:5000])\n",
        "\n",
        "plt.show()"
      ],
      "execution_count": 0,
      "outputs": []
    },
    {
      "cell_type": "code",
      "metadata": {
        "id": "Cta_X5fYc4Za",
        "colab_type": "code",
        "colab": {}
      },
      "source": [
        ""
      ],
      "execution_count": 0,
      "outputs": []
    }
  ]
}